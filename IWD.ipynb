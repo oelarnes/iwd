{
 "cells": [
  {
   "cell_type": "code",
   "execution_count": 2,
   "id": "4704e23a-e725-4c6a-8591-1e6c6e22bf84",
   "metadata": {},
   "outputs": [],
   "source": [
    "import csv\n",
    "import pandas as pd\n",
    "import numpy as np\n",
    "import sklearn\n",
    "\n",
    "from sklearn import linear_model\n",
    "from sklearn.metrics import mean_squared_error, r2_score\n",
    "reg = linear_model.LinearRegression()"
   ]
  },
  {
   "cell_type": "code",
   "execution_count": 3,
   "id": "6391261b-f75f-4ec8-b901-ecb3cd35d5ce",
   "metadata": {},
   "outputs": [],
   "source": [
    "path = './data/game_data_public.MKM.PremierDraft.csv'\n",
    "with open(path) as csvfile:\n",
    "    base_df = pd.read_csv(csvfile)"
   ]
  },
  {
   "cell_type": "code",
   "execution_count": 96,
   "id": "44ee3367-b461-4c5b-8be7-d7eaa56b3d1d",
   "metadata": {},
   "outputs": [],
   "source": [
    "df = pd.DataFrame(base_df)\n",
    "df = df[df['draft_time'] > '2024-02-19']"
   ]
  },
  {
   "cell_type": "code",
   "execution_count": 97,
   "id": "6ae27599-1e94-4f1d-aedc-5f12cef05542",
   "metadata": {},
   "outputs": [],
   "source": [
    "all_columns = list(df.columns)\n",
    "name_columns = [col for col in all_columns if 'drawn_' in col]\n",
    "names = [n.split('_')[1] for n in name_columns]\n",
    "\n",
    "name_gen = lambda x: [f'{x}_{name}' for name in names]"
   ]
  },
  {
   "cell_type": "code",
   "execution_count": 98,
   "id": "2c6379e5-d1b8-4561-8699-b807b619734b",
   "metadata": {},
   "outputs": [],
   "source": [
    "oh_df = df[name_gen('opening_hand')]\n",
    "oh_df.columns = names\n",
    "\n",
    "drawn_df = df[name_gen('drawn')]\n",
    "drawn_df.columns = names\n",
    "\n",
    "ih_df = oh_df + drawn_df"
   ]
  },
  {
   "cell_type": "code",
   "execution_count": 99,
   "id": "dd7885b4-c542-4661-8239-bdc4b87789fa",
   "metadata": {},
   "outputs": [],
   "source": [
    "cards_seen = ih_df.sum(axis=1)\n",
    "cards_seen.name = 'cards_seen'"
   ]
  },
  {
   "cell_type": "code",
   "execution_count": 100,
   "id": "4bf06d56-bca1-4b01-a5fe-b43fcaa7e957",
   "metadata": {},
   "outputs": [],
   "source": [
    "gih_counts = ih_df.sum()\n",
    "gih_win_counts = ih_df[df['won']].sum()\n",
    "\n",
    "gihwr = gih_win_counts / gih_counts\n",
    "gihwr.name = 'gihwr'"
   ]
  },
  {
   "cell_type": "code",
   "execution_count": 101,
   "id": "6336cd91-354f-4f14-935a-8cefce5e1e50",
   "metadata": {},
   "outputs": [],
   "source": [
    "deck_df = pd.DataFrame(df[name_gen('deck')])\n",
    "deck_df.columns = names\n",
    "\n",
    "deck_counts = deck_df.sum()\n",
    "deck_win_counts = deck_df[df['won']].sum()\n",
    "\n",
    "gpwr = deck_win_counts / deck_counts\n",
    "gpwr.name = 'gpwr'"
   ]
  },
  {
   "cell_type": "code",
   "execution_count": 102,
   "id": "80be6cdf-b351-4c6b-bfb9-9a6f62bf7c42",
   "metadata": {},
   "outputs": [],
   "source": [
    "ihd = gihwr - gpwr\n",
    "ihd.name = 'in-hand delta'"
   ]
  },
  {
   "cell_type": "code",
   "execution_count": 103,
   "id": "80e79ea2-f0d7-4b85-8fa7-5eb03e23d6d3",
   "metadata": {},
   "outputs": [],
   "source": [
    "gwih = ih_df.div(cards_seen, axis=0) * 40"
   ]
  },
  {
   "cell_type": "code",
   "execution_count": 104,
   "id": "dcd19a3c-e9b8-4d1c-9913-4c82ae4ac40b",
   "metadata": {},
   "outputs": [],
   "source": [
    "gwihwr = gwih[df['won']].sum() / gwih.sum()\n",
    "gwihwr.name = 'gwihwr'"
   ]
  },
  {
   "cell_type": "code",
   "execution_count": 105,
   "id": "3fa3e902-87e6-42fc-a62f-905118a40eac",
   "metadata": {},
   "outputs": [],
   "source": [
    "gwihd = gwihwr - gpwr\n",
    "gwihd.name = 'game-weighted in-hand delta'"
   ]
  },
  {
   "cell_type": "code",
   "execution_count": 106,
   "id": "b9be5cdd-20bf-4f7a-a906-e1ba35ff6307",
   "metadata": {},
   "outputs": [],
   "source": [
    "deck_adjacency = deck_df.transpose().dot(deck_df)\n",
    "average_marginal_decklist = deck_adjacency / deck_adjacency.sum()\n",
    "d1gpwr = gpwr.dot(average_marginal_decklist)\n",
    "\n",
    "d1d = gpwr - d1gpwr\n",
    "d1d.name = 'distance-one delta'"
   ]
  },
  {
   "cell_type": "code",
   "execution_count": 107,
   "id": "d59da389-6ad1-4d69-8c7e-325ca430fd8f",
   "metadata": {},
   "outputs": [],
   "source": [
    "ihd_df = pd.DataFrame([ihd, gwihd, d1d])"
   ]
  },
  {
   "cell_type": "code",
   "execution_count": 108,
   "id": "e3b07aff-dde2-4c51-bdc9-60fef714bcc1",
   "metadata": {},
   "outputs": [],
   "source": [
    "turn_info_df = df[['num_turns', 'won']]\n",
    "num_turn_bias_df = pd.concat([deck_df, turn_info_df], axis=1)"
   ]
  },
  {
   "cell_type": "code",
   "execution_count": 109,
   "id": "80e6f23a-0654-4bde-8f96-227fbdf151a3",
   "metadata": {},
   "outputs": [],
   "source": [
    "num_turn_bias_map = {}\n",
    "for name in names:\n",
    "    filtered_df = num_turn_bias_df[deck_df[name]>0]\n",
    "    weighted_wins = filtered_df['won'] * filtered_df[name]\n",
    "    num_turn_bias_map[name] = weighted_wins.corr(filtered_df['num_turns'])"
   ]
  },
  {
   "cell_type": "code",
   "execution_count": 110,
   "id": "656c5e94-f35d-4e74-bd78-4ca23bc74fce",
   "metadata": {},
   "outputs": [],
   "source": [
    "num_turn_bias = pd.Series(num_turn_bias_map, index=names)\n",
    "num_turn_bias_df = pd.DataFrame([num_turn_bias]).transpose()"
   ]
  },
  {
   "cell_type": "code",
   "execution_count": 111,
   "id": "87aca6ee-1ee7-4bd1-8ddf-da6f87035121",
   "metadata": {},
   "outputs": [
    {
     "data": {
      "text/plain": [
       "0.6925023460850965"
      ]
     },
     "execution_count": 111,
     "metadata": {},
     "output_type": "execute_result"
    }
   ],
   "source": [
    "reg.fit(num_turn_bias_df, ihd-gwihd)\n",
    "reg.score(num_turn_bias_df, ihd-gwihd)"
   ]
  },
  {
   "cell_type": "code",
   "execution_count": null,
   "id": "30ac1bfa-8511-4feb-86f1-0690cde1ca59",
   "metadata": {},
   "outputs": [],
   "source": []
  }
 ],
 "metadata": {
  "kernelspec": {
   "display_name": "Python 3 (ipykernel)",
   "language": "python",
   "name": "python3"
  },
  "language_info": {
   "codemirror_mode": {
    "name": "ipython",
    "version": 3
   },
   "file_extension": ".py",
   "mimetype": "text/x-python",
   "name": "python",
   "nbconvert_exporter": "python",
   "pygments_lexer": "ipython3",
   "version": "3.8.10"
  }
 },
 "nbformat": 4,
 "nbformat_minor": 5
}
