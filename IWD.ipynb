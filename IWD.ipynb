{
 "cells": [
  {
   "cell_type": "code",
   "execution_count": 1,
   "id": "4704e23a-e725-4c6a-8591-1e6c6e22bf84",
   "metadata": {},
   "outputs": [],
   "source": [
    "import csv\n",
    "import pandas as pd\n",
    "import numpy as np"
   ]
  },
  {
   "cell_type": "code",
   "execution_count": 5,
   "id": "6391261b-f75f-4ec8-b901-ecb3cd35d5ce",
   "metadata": {},
   "outputs": [],
   "source": [
    "path = './data/game_data_public.MKM.PremierDraft.csv'\n",
    "with open(path) as csvfile:\n",
    "    base_df = pd.read_csv(csvfile)"
   ]
  },
  {
   "cell_type": "code",
   "execution_count": 6,
   "id": "44ee3367-b461-4c5b-8be7-d7eaa56b3d1d",
   "metadata": {},
   "outputs": [],
   "source": [
    "df = pd.DataFrame(base_df)"
   ]
  },
  {
   "cell_type": "code",
   "execution_count": 7,
   "id": "6ae27599-1e94-4f1d-aedc-5f12cef05542",
   "metadata": {},
   "outputs": [],
   "source": [
    "all_columns = list(df.columns)\n",
    "name_columns = [col for col in all_columns if 'drawn_' in col]\n",
    "names = [n.split('_')[1] for n in name_columns]\n",
    "\n",
    "name_gen = lambda x: [f'{x}_{name}' for name in names]"
   ]
  },
  {
   "cell_type": "code",
   "execution_count": 8,
   "id": "2c6379e5-d1b8-4561-8699-b807b619734b",
   "metadata": {},
   "outputs": [],
   "source": [
    "oh_df = df[name_gen('opening_hand')]\n",
    "oh_df.columns = names\n",
    "\n",
    "drawn_df = df[name_gen('drawn')]\n",
    "drawn_df.columns = names\n",
    "\n",
    "ih_df = oh_df + drawn_df"
   ]
  },
  {
   "cell_type": "code",
   "execution_count": 9,
   "id": "dd7885b4-c542-4661-8239-bdc4b87789fa",
   "metadata": {},
   "outputs": [],
   "source": [
    "cards_seen = ih_df.sum(axis=1)\n",
    "cards_seen.name = 'cards_seen'\n",
    "\n",
    "cards_not_seen = cards_seen.apply(lambda x: max(1, 40-x))\n",
    "cards_not_seen.name = 'cards_not_seen'"
   ]
  },
  {
   "cell_type": "code",
   "execution_count": 10,
   "id": "4bf06d56-bca1-4b01-a5fe-b43fcaa7e957",
   "metadata": {},
   "outputs": [],
   "source": [
    "gih_counts = ih_df.sum()\n",
    "gih_win_counts = ih_df[df['won']].sum()\n",
    "\n",
    "gihwr = gih_win_counts / gih_counts\n",
    "gihwr.name = 'gihwr'"
   ]
  },
  {
   "cell_type": "code",
   "execution_count": 11,
   "id": "6336cd91-354f-4f14-935a-8cefce5e1e50",
   "metadata": {},
   "outputs": [],
   "source": [
    "deck_df = pd.DataFrame(df[name_gen('deck')])\n",
    "deck_df.columns = names\n",
    "\n",
    "deck_counts = deck_df.sum()\n",
    "deck_win_counts = deck_df[df['won']].sum()\n",
    "\n",
    "gpwr = deck_win_counts / deck_counts\n",
    "gpwr.name = 'gpwr'"
   ]
  },
  {
   "cell_type": "code",
   "execution_count": 12,
   "id": "80be6cdf-b351-4c6b-bfb9-9a6f62bf7c42",
   "metadata": {},
   "outputs": [],
   "source": [
    "ihd = gihwr - gpwr\n",
    "ihd.name = 'in-hand delta'"
   ]
  },
  {
   "cell_type": "code",
   "execution_count": 13,
   "id": "80e79ea2-f0d7-4b85-8fa7-5eb03e23d6d3",
   "metadata": {},
   "outputs": [],
   "source": [
    "gwih = ih_df.div(cards_seen, axis=0) * 40"
   ]
  },
  {
   "cell_type": "code",
   "execution_count": 14,
   "id": "dcd19a3c-e9b8-4d1c-9913-4c82ae4ac40b",
   "metadata": {},
   "outputs": [],
   "source": [
    "gwihwr = gwih[df['won']].sum() / gwih.sum()\n",
    "gwihwr.name = 'gwihwr'"
   ]
  },
  {
   "cell_type": "code",
   "execution_count": 15,
   "id": "3fa3e902-87e6-42fc-a62f-905118a40eac",
   "metadata": {},
   "outputs": [],
   "source": [
    "gwihd = gwihwr - gpwr\n",
    "gwihd.name = 'game-weighted in-hand delta'"
   ]
  },
  {
   "cell_type": "code",
   "execution_count": 16,
   "id": "b9be5cdd-20bf-4f7a-a906-e1ba35ff6307",
   "metadata": {},
   "outputs": [],
   "source": [
    "deck_adjacency = deck_df.transpose().dot(deck_df)\n",
    "average_marginal_decklist = deck_adjacency / deck_adjacency.sum()\n",
    "d1gpwr = gpwr.dot(average_marginal_decklist)\n",
    "\n",
    "d1d = gpwr - d1gpwr\n",
    "d1d.name = 'distance-one delta'"
   ]
  },
  {
   "cell_type": "code",
   "execution_count": 17,
   "id": "d59da389-6ad1-4d69-8c7e-325ca430fd8f",
   "metadata": {},
   "outputs": [],
   "source": [
    "ihd_df = pd.DataFrame([ihd, gwihd, d1d])"
   ]
  },
  {
   "cell_type": "code",
   "execution_count": 18,
   "id": "66479b68-8a65-4cb8-840d-9ebb56b99e59",
   "metadata": {},
   "outputs": [
    {
     "name": "stdout",
     "output_type": "stream",
     "text": [
      "count    326.000000\n",
      "mean      -0.015658\n",
      "std        0.032347\n",
      "min       -0.187290\n",
      "25%       -0.026344\n",
      "50%       -0.009367\n",
      "75%        0.005134\n",
      "max        0.051000\n",
      "Name: distance-one delta, dtype: float64\n",
      "count    326.000000\n",
      "mean       0.004061\n",
      "std        0.023923\n",
      "min       -0.118957\n",
      "25%       -0.008126\n",
      "50%        0.002711\n",
      "75%        0.014222\n",
      "max        0.080215\n",
      "Name: in-hand delta, dtype: float64\n"
     ]
    },
    {
     "data": {
      "text/plain": [
       "count    326.000000\n",
       "mean      -0.002154\n",
       "std        0.026982\n",
       "min       -0.146353\n",
       "25%       -0.014706\n",
       "50%       -0.003421\n",
       "75%        0.010623\n",
       "max        0.081036\n",
       "Name: game-weighted in-hand delta, dtype: float64"
      ]
     },
     "execution_count": 18,
     "metadata": {},
     "output_type": "execute_result"
    }
   ],
   "source": [
    "print(d1d.describe())\n",
    "print(ihd.describe())\n",
    "gwihd.describe()"
   ]
  },
  {
   "cell_type": "code",
   "execution_count": 20,
   "id": "e3b07aff-dde2-4c51-bdc9-60fef714bcc1",
   "metadata": {},
   "outputs": [],
   "source": [
    "turn_info_df = df[['num_turns', 'won']]\n",
    "speed_bias_df = pd.concat([deck_df, turn_info_df], axis=1)"
   ]
  },
  {
   "cell_type": "code",
   "execution_count": 34,
   "id": "80e6f23a-0654-4bde-8f96-227fbdf151a3",
   "metadata": {},
   "outputs": [],
   "source": [
    "corr_map = {}\n",
    "for name in names:\n",
    "    filtered_df = speed_bias_df[deck_df[name]>0]\n",
    "    weighted_wins = filtered_df['won'] * filtered_df[name]\n",
    "    corr_map[name] = weighted_wins.corr(filtered_df['num_turns'])"
   ]
  },
  {
   "cell_type": "code",
   "execution_count": 35,
   "id": "656c5e94-f35d-4e74-bd78-4ca23bc74fce",
   "metadata": {},
   "outputs": [],
   "source": [
    "corr = pd.Series(corr_map, index=names)"
   ]
  },
  {
   "cell_type": "code",
   "execution_count": 36,
   "id": "06dd3cfe-ff5e-4b99-9ec1-0b2c0a4c90e0",
   "metadata": {},
   "outputs": [
    {
     "data": {
      "text/plain": [
       "-0.13422862598823776"
      ]
     },
     "execution_count": 36,
     "metadata": {},
     "output_type": "execute_result"
    }
   ],
   "source": [
    "corr['On the Job']"
   ]
  },
  {
   "cell_type": "code",
   "execution_count": 42,
   "id": "b3721cbf-8688-4517-a46d-1295620be598",
   "metadata": {},
   "outputs": [
    {
     "data": {
      "text/plain": [
       "-0.10842746291399476"
      ]
     },
     "execution_count": 42,
     "metadata": {},
     "output_type": "execute_result"
    }
   ],
   "source": [
    "corr['Novice Inspector']"
   ]
  },
  {
   "cell_type": "code",
   "execution_count": 43,
   "id": "7806d3f3-863a-4d73-bde2-0f129592e0ba",
   "metadata": {},
   "outputs": [
    {
     "data": {
      "text/plain": [
       "0.09132755620549622"
      ]
     },
     "execution_count": 43,
     "metadata": {},
     "output_type": "execute_result"
    }
   ],
   "source": [
    "corr.corr(ihd)"
   ]
  },
  {
   "cell_type": "code",
   "execution_count": 44,
   "id": "13b40271-a485-49aa-a443-6af46a1f9a89",
   "metadata": {},
   "outputs": [
    {
     "data": {
      "text/plain": [
       "-0.23237711299218158"
      ]
     },
     "execution_count": 44,
     "metadata": {},
     "output_type": "execute_result"
    }
   ],
   "source": [
    "corr.corr(gwihd)"
   ]
  },
  {
   "cell_type": "code",
   "execution_count": 45,
   "id": "a2796784-1769-4fa3-bb79-2920f99a431e",
   "metadata": {},
   "outputs": [
    {
     "data": {
      "text/plain": [
       "-0.428732219355698"
      ]
     },
     "execution_count": 45,
     "metadata": {},
     "output_type": "execute_result"
    }
   ],
   "source": [
    "corr.corr(d1d)"
   ]
  },
  {
   "cell_type": "code",
   "execution_count": 41,
   "id": "67eceae5-b251-4441-964f-e5d95c08982a",
   "metadata": {},
   "outputs": [
    {
     "data": {
      "text/plain": [
       "0.1762650232657035"
      ]
     },
     "execution_count": 41,
     "metadata": {},
     "output_type": "execute_result"
    }
   ],
   "source": [
    "corr['Gnaw to the Bone']"
   ]
  },
  {
   "cell_type": "code",
   "execution_count": 46,
   "id": "56574bc5-0624-4fe0-ba97-b8542d235af0",
   "metadata": {},
   "outputs": [],
   "source": [
    "speed_bias = (speed_bias_df['won'].corr(speed_bias_df['num_turns']))"
   ]
  },
  {
   "cell_type": "code",
   "execution_count": 47,
   "id": "209a9ab0-6494-4f95-8b37-99addfae2b45",
   "metadata": {},
   "outputs": [
    {
     "data": {
      "text/plain": [
       "-0.046709522317764963"
      ]
     },
     "execution_count": 47,
     "metadata": {},
     "output_type": "execute_result"
    }
   ],
   "source": [
    "speed_bias"
   ]
  },
  {
   "cell_type": "code",
   "execution_count": 53,
   "id": "c89bb2ee-96a9-4bfa-9b04-be2408e42dd9",
   "metadata": {},
   "outputs": [
    {
     "data": {
      "text/plain": [
       "in-hand delta                  0.014259\n",
       "game-weighted in-hand delta   -0.003820\n",
       "distance-one delta            -0.038463\n",
       "Name: Insidious Roots, dtype: float64"
      ]
     },
     "execution_count": 53,
     "metadata": {},
     "output_type": "execute_result"
    }
   ],
   "source": [
    "ihd_df[\"Insidious Roots\"]"
   ]
  },
  {
   "cell_type": "code",
   "execution_count": 56,
   "id": "65908490-52db-46e1-811d-1457589bb029",
   "metadata": {},
   "outputs": [
    {
     "data": {
      "text/plain": [
       "in-hand delta                  0.002072\n",
       "game-weighted in-hand delta   -0.005997\n",
       "distance-one delta            -0.015631\n",
       "Name: Aftermath Analyst, dtype: float64"
      ]
     },
     "execution_count": 56,
     "metadata": {},
     "output_type": "execute_result"
    }
   ],
   "source": [
    "ihd_df['Aftermath Analyst']"
   ]
  },
  {
   "cell_type": "code",
   "execution_count": 57,
   "id": "4c1c07a7-afa5-496c-866e-830e9a7cdff0",
   "metadata": {},
   "outputs": [
    {
     "data": {
      "text/plain": [
       "in-hand delta                  0.001358\n",
       "game-weighted in-hand delta    0.003357\n",
       "distance-one delta             0.003302\n",
       "Name: Tunnel Tipster, dtype: float64"
      ]
     },
     "execution_count": 57,
     "metadata": {},
     "output_type": "execute_result"
    }
   ],
   "source": [
    "ihd_df['Tunnel Tipster']"
   ]
  },
  {
   "cell_type": "code",
   "execution_count": null,
   "id": "37896711-1773-4a6f-8630-66b2ad854a35",
   "metadata": {},
   "outputs": [],
   "source": []
  }
 ],
 "metadata": {
  "kernelspec": {
   "display_name": "Python 3 (ipykernel)",
   "language": "python",
   "name": "python3"
  },
  "language_info": {
   "codemirror_mode": {
    "name": "ipython",
    "version": 3
   },
   "file_extension": ".py",
   "mimetype": "text/x-python",
   "name": "python",
   "nbconvert_exporter": "python",
   "pygments_lexer": "ipython3",
   "version": "3.11.7"
  }
 },
 "nbformat": 4,
 "nbformat_minor": 5
}
