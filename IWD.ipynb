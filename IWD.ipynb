{
 "cells": [
  {
   "cell_type": "code",
   "execution_count": 324,
   "id": "4704e23a-e725-4c6a-8591-1e6c6e22bf84",
   "metadata": {},
   "outputs": [],
   "source": [
    "import csv\n",
    "import pandas as pd\n",
    "import numpy as np"
   ]
  },
  {
   "cell_type": "code",
   "execution_count": 268,
   "id": "6391261b-f75f-4ec8-b901-ecb3cd35d5ce",
   "metadata": {},
   "outputs": [],
   "source": [
    "path = './data/game_data_public.MKM.PremierDraft.csv'\n",
    "with open(path) as csvfile:\n",
    "    base_df = pd.read_csv(csvfile)"
   ]
  },
  {
   "cell_type": "code",
   "execution_count": 302,
   "id": "44ee3367-b461-4c5b-8be7-d7eaa56b3d1d",
   "metadata": {},
   "outputs": [],
   "source": [
    "df = pd.DataFrame(base_df)"
   ]
  },
  {
   "cell_type": "code",
   "execution_count": 303,
   "id": "6ae27599-1e94-4f1d-aedc-5f12cef05542",
   "metadata": {},
   "outputs": [],
   "source": [
    "all_columns = list(df.columns)\n",
    "name_columns = [col for col in all_columns if 'drawn_' in col]\n",
    "names = [n.split('_')[1] for n in name_columns]\n",
    "\n",
    "name_gen = lambda x: [f'{x}_{name}' for name in names]"
   ]
  },
  {
   "cell_type": "code",
   "execution_count": 373,
   "id": "2c6379e5-d1b8-4561-8699-b807b619734b",
   "metadata": {},
   "outputs": [],
   "source": [
    "oh_df = df[name_gen('opening_hand')]\n",
    "oh_df.columns = names\n",
    "\n",
    "drawn_df = df[name_gen('drawn')]\n",
    "drawn_df.columns = names\n",
    "\n",
    "ih_df = oh_df + drawn_df"
   ]
  },
  {
   "cell_type": "code",
   "execution_count": 374,
   "id": "dd7885b4-c542-4661-8239-bdc4b87789fa",
   "metadata": {},
   "outputs": [],
   "source": [
    "cards_seen = ih_df.sum(axis=1)\n",
    "cards_seen.name = 'cards_seen'\n",
    "\n",
    "cards_not_seen = cards_seen.apply(lambda x: max(1, 40-x))\n",
    "cards_not_seen.name = 'cards_not_seen'"
   ]
  },
  {
   "cell_type": "code",
   "execution_count": 375,
   "id": "4bf06d56-bca1-4b01-a5fe-b43fcaa7e957",
   "metadata": {},
   "outputs": [],
   "source": [
    "gih_counts = ih_df.sum()\n",
    "gih_win_counts = ih_df[df['won']].sum()\n",
    "\n",
    "gihwr = gih_win_counts / gih_counts\n",
    "gihwr.name = 'gihwr'"
   ]
  },
  {
   "cell_type": "code",
   "execution_count": 376,
   "id": "6336cd91-354f-4f14-935a-8cefce5e1e50",
   "metadata": {},
   "outputs": [],
   "source": [
    "deck_df = pd.DataFrame(df[name_gen('deck')])\n",
    "deck_df.columns = names\n",
    "\n",
    "deck_counts = deck_df.sum()\n",
    "deck_win_counts = deck_df[df['won']].sum()\n",
    "\n",
    "gpwr = deck_win_counts / deck_counts\n",
    "gpwr.name = 'gpwr'"
   ]
  },
  {
   "cell_type": "code",
   "execution_count": 377,
   "id": "327379b4-7204-48ed-ac08-cf73430c6c83",
   "metadata": {},
   "outputs": [],
   "source": [
    "ns_df = deck_df - ih_df\n",
    "ns_df = ns_df.apply(lambda S: S.apply(lambda x: max(0, x)))"
   ]
  },
  {
   "cell_type": "code",
   "execution_count": 378,
   "id": "6bac2e37-85f2-418a-b6cc-b4d55288fd66",
   "metadata": {},
   "outputs": [],
   "source": [
    "gns_counts = ns_df.sum()\n",
    "gns_win_counts = ns_df[df['won']].sum()\n",
    "\n",
    "gnswr = gns_win_counts / gns_counts\n",
    "gnswr.name = 'gnswr'"
   ]
  },
  {
   "cell_type": "code",
   "execution_count": 379,
   "id": "80be6cdf-b351-4c6b-bfb9-9a6f62bf7c42",
   "metadata": {},
   "outputs": [],
   "source": [
    "ihd = gihwr - gpwr\n",
    "ihd.name = 'in-hand delta'"
   ]
  },
  {
   "cell_type": "code",
   "execution_count": 380,
   "id": "80e79ea2-f0d7-4b85-8fa7-5eb03e23d6d3",
   "metadata": {},
   "outputs": [],
   "source": [
    "gwih = ih_df.div(cards_seen, axis=0) * 40\n",
    "gwns = ns_df.div(cards_not_seen, axis=0) * 40"
   ]
  },
  {
   "cell_type": "code",
   "execution_count": 381,
   "id": "dcd19a3c-e9b8-4d1c-9913-4c82ae4ac40b",
   "metadata": {},
   "outputs": [],
   "source": [
    "gwihwr = gwih[df['won']].sum() / gwih.sum()\n",
    "gwihwr.name = 'gwihwr'"
   ]
  },
  {
   "cell_type": "code",
   "execution_count": 382,
   "id": "3fa3e902-87e6-42fc-a62f-905118a40eac",
   "metadata": {},
   "outputs": [],
   "source": [
    "gwihd = gwihwr - gpwr\n",
    "gwihd.name = 'game-weighted in-hand delta'"
   ]
  },
  {
   "cell_type": "code",
   "execution_count": 383,
   "id": "b9be5cdd-20bf-4f7a-a906-e1ba35ff6307",
   "metadata": {},
   "outputs": [],
   "source": [
    "deck_adjacency = deck_df.transpose().dot(deck_df)\n",
    "average_marginal_decklist = deck_adjacency / deck_adjacency.sum()\n",
    "d1gpwr = gpwr.dot(average_marginal_decklist)\n",
    "\n",
    "d1d = gpwr - d1gpwr\n",
    "d1d.name = 'distance-one delta'"
   ]
  },
  {
   "cell_type": "code",
   "execution_count": 384,
   "id": "d59da389-6ad1-4d69-8c7e-325ca430fd8f",
   "metadata": {},
   "outputs": [],
   "source": [
    "ihd_df = pd.DataFrame([ihd, gwihd, d1d])"
   ]
  },
  {
   "cell_type": "code",
   "execution_count": 385,
   "id": "66479b68-8a65-4cb8-840d-9ebb56b99e59",
   "metadata": {},
   "outputs": [
    {
     "name": "stdout",
     "output_type": "stream",
     "text": [
      "count    326.000000\n",
      "mean      -0.016097\n",
      "std        0.033482\n",
      "min       -0.198801\n",
      "25%       -0.027297\n",
      "50%       -0.009988\n",
      "75%        0.005723\n",
      "max        0.052500\n",
      "Name: d1delta, dtype: float64\n",
      "count    326.000000\n",
      "mean       0.003434\n",
      "std        0.025944\n",
      "min       -0.130455\n",
      "25%       -0.007860\n",
      "50%        0.002450\n",
      "75%        0.014836\n",
      "max        0.077208\n",
      "Name: ihd, dtype: float64\n"
     ]
    },
    {
     "data": {
      "text/plain": [
       "count    326.000000\n",
       "mean      -0.002477\n",
       "std        0.029189\n",
       "min       -0.180132\n",
       "25%       -0.015249\n",
       "50%       -0.003459\n",
       "75%        0.012070\n",
       "max        0.077607\n",
       "Name: gwihd, dtype: float64"
      ]
     },
     "execution_count": 385,
     "metadata": {},
     "output_type": "execute_result"
    }
   ],
   "source": [
    "print(d1d.describe())\n",
    "print(ihd.describe())\n",
    "gwihd.describe()"
   ]
  },
  {
   "cell_type": "code",
   "execution_count": 358,
   "id": "47af83db-afe7-4246-b72e-b6fa809feefc",
   "metadata": {
    "scrolled": true
   },
   "outputs": [
    {
     "data": {
      "text/plain": [
       "Index(['expansion', 'event_type', 'draft_id', 'draft_time', 'game_time',\n",
       "       'build_index', 'match_number', 'game_number', 'rank', 'opp_rank',\n",
       "       'main_colors', 'splash_colors', 'on_play', 'num_mulligans',\n",
       "       'opp_num_mulligans', 'opp_colors', 'num_turns', 'won',\n",
       "       'opening_hand_A Killer Among Us', 'drawn_A Killer Among Us'],\n",
       "      dtype='object')"
      ]
     },
     "execution_count": 358,
     "metadata": {},
     "output_type": "execute_result"
    }
   ],
   "source": []
  },
  {
   "cell_type": "code",
   "execution_count": 391,
   "id": "e3b07aff-dde2-4c51-bdc9-60fef714bcc1",
   "metadata": {},
   "outputs": [],
   "source": [
    "turn_info_df = df[['num_turns', 'won']]\n",
    "speed_bias_df = pd.concat([deck_df, turn_info_df], axis=1)"
   ]
  },
  {
   "cell_type": "code",
   "execution_count": 392,
   "id": "0e452b87-d882-4576-905e-e147071b4c81",
   "metadata": {},
   "outputs": [],
   "source": [
    "dot_df = turn_info_df.transpose().dot(speed_bias_df)"
   ]
  },
  {
   "cell_type": "code",
   "execution_count": 394,
   "id": "80e6f23a-0654-4bde-8f96-227fbdf151a3",
   "metadata": {},
   "outputs": [
    {
     "data": {
      "text/html": [
       "<div>\n",
       "<style scoped>\n",
       "    .dataframe tbody tr th:only-of-type {\n",
       "        vertical-align: middle;\n",
       "    }\n",
       "\n",
       "    .dataframe tbody tr th {\n",
       "        vertical-align: top;\n",
       "    }\n",
       "\n",
       "    .dataframe thead th {\n",
       "        text-align: right;\n",
       "    }\n",
       "</style>\n",
       "<table border=\"1\" class=\"dataframe\">\n",
       "  <thead>\n",
       "    <tr style=\"text-align: right;\">\n",
       "      <th></th>\n",
       "      <th>A Killer Among Us</th>\n",
       "      <th>Absolving Lammasu</th>\n",
       "      <th>Aftermath Analyst</th>\n",
       "      <th>Agency Coroner</th>\n",
       "      <th>Agency Outfitter</th>\n",
       "      <th>Agrus Kos, Spirit of Justice</th>\n",
       "      <th>Airtight Alibi</th>\n",
       "      <th>Alley Assailant</th>\n",
       "      <th>Alquist Proft, Master Sleuth</th>\n",
       "      <th>Analyze the Pollen</th>\n",
       "      <th>...</th>\n",
       "      <th>Vitu-Ghazi Inspector</th>\n",
       "      <th>Warleader's Call</th>\n",
       "      <th>Wispdrinker Vampire</th>\n",
       "      <th>Wojek Investigator</th>\n",
       "      <th>Worldsoul's Rage</th>\n",
       "      <th>Worldspine Wurm</th>\n",
       "      <th>Wrench</th>\n",
       "      <th>Yarus, Roar of the Old Gods</th>\n",
       "      <th>num_turns</th>\n",
       "      <th>won</th>\n",
       "    </tr>\n",
       "  </thead>\n",
       "  <tbody>\n",
       "    <tr>\n",
       "      <th>num_turns</th>\n",
       "      <td>844605</td>\n",
       "      <td>220869</td>\n",
       "      <td>406587</td>\n",
       "      <td>128508</td>\n",
       "      <td>114414</td>\n",
       "      <td>143957</td>\n",
       "      <td>411017</td>\n",
       "      <td>630815</td>\n",
       "      <td>125199</td>\n",
       "      <td>225370</td>\n",
       "      <td>...</td>\n",
       "      <td>1311022</td>\n",
       "      <td>271571</td>\n",
       "      <td>384519</td>\n",
       "      <td>327424</td>\n",
       "      <td>117544</td>\n",
       "      <td>4623</td>\n",
       "      <td>152064</td>\n",
       "      <td>242758</td>\n",
       "      <td>58545442</td>\n",
       "      <td>3164147</td>\n",
       "    </tr>\n",
       "    <tr>\n",
       "      <th>won</th>\n",
       "      <td>52963</td>\n",
       "      <td>12841</td>\n",
       "      <td>22491</td>\n",
       "      <td>6692</td>\n",
       "      <td>6115</td>\n",
       "      <td>9609</td>\n",
       "      <td>24024</td>\n",
       "      <td>34714</td>\n",
       "      <td>7299</td>\n",
       "      <td>13141</td>\n",
       "      <td>...</td>\n",
       "      <td>75457</td>\n",
       "      <td>18119</td>\n",
       "      <td>21808</td>\n",
       "      <td>20770</td>\n",
       "      <td>6654</td>\n",
       "      <td>221</td>\n",
       "      <td>8888</td>\n",
       "      <td>14559</td>\n",
       "      <td>3164147</td>\n",
       "      <td>346373</td>\n",
       "    </tr>\n",
       "  </tbody>\n",
       "</table>\n",
       "<p>2 rows × 328 columns</p>\n",
       "</div>"
      ],
      "text/plain": [
       "          A Killer Among Us Absolving Lammasu Aftermath Analyst  \\\n",
       "num_turns            844605            220869            406587   \n",
       "won                   52963             12841             22491   \n",
       "\n",
       "          Agency Coroner Agency Outfitter Agrus Kos, Spirit of Justice  \\\n",
       "num_turns         128508           114414                       143957   \n",
       "won                 6692             6115                         9609   \n",
       "\n",
       "          Airtight Alibi Alley Assailant Alquist Proft, Master Sleuth  \\\n",
       "num_turns         411017          630815                       125199   \n",
       "won                24024           34714                         7299   \n",
       "\n",
       "          Analyze the Pollen  ... Vitu-Ghazi Inspector Warleader's Call  \\\n",
       "num_turns             225370  ...              1311022           271571   \n",
       "won                    13141  ...                75457            18119   \n",
       "\n",
       "          Wispdrinker Vampire Wojek Investigator Worldsoul's Rage  \\\n",
       "num_turns              384519             327424           117544   \n",
       "won                     21808              20770             6654   \n",
       "\n",
       "          Worldspine Wurm  Wrench Yarus, Roar of the Old Gods num_turns  \\\n",
       "num_turns            4623  152064                      242758  58545442   \n",
       "won                   221    8888                       14559   3164147   \n",
       "\n",
       "               won  \n",
       "num_turns  3164147  \n",
       "won         346373  \n",
       "\n",
       "[2 rows x 328 columns]"
      ]
     },
     "execution_count": 394,
     "metadata": {},
     "output_type": "execute_result"
    }
   ],
   "source": [
    "dot_df"
   ]
  },
  {
   "cell_type": "code",
   "execution_count": null,
   "id": "656c5e94-f35d-4e74-bd78-4ca23bc74fce",
   "metadata": {},
   "outputs": [],
   "source": []
  }
 ],
 "metadata": {
  "kernelspec": {
   "display_name": "Python 3 (ipykernel)",
   "language": "python",
   "name": "python3"
  },
  "language_info": {
   "codemirror_mode": {
    "name": "ipython",
    "version": 3
   },
   "file_extension": ".py",
   "mimetype": "text/x-python",
   "name": "python",
   "nbconvert_exporter": "python",
   "pygments_lexer": "ipython3",
   "version": "3.8.10"
  }
 },
 "nbformat": 4,
 "nbformat_minor": 5
}
