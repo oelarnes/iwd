{
 "cells": [
  {
   "cell_type": "code",
   "execution_count": 16,
   "id": "1fac8f46-a582-4f4e-9e59-f84a41db25fb",
   "metadata": {},
   "outputs": [],
   "source": [
    "import pandas\n",
    "import numpy\n",
    "\n",
    "numpy.set_printoptions(threshold=500)\n",
    "pandas.set_option('display.max_rows', 500)"
   ]
  },
  {
   "cell_type": "code",
   "execution_count": 7,
   "id": "a2e586ef-3f12-4528-9ff5-1a1e964dd66f",
   "metadata": {},
   "outputs": [],
   "source": [
    "metrics_df  = pandas.read_csv('metrics_df_9apr24.csv',index_col=0)"
   ]
  },
  {
   "cell_type": "code",
   "execution_count": 10,
   "id": "b08b4811-c38e-445a-b84a-8c1000a0043b",
   "metadata": {},
   "outputs": [],
   "source": [
    "metrics_df['d1wr'] = metrics_df['gpwr'] - metrics_df['distance-one delta']"
   ]
  },
  {
   "cell_type": "code",
   "execution_count": 13,
   "id": "29ee4791-c492-4877-805a-931972d549c4",
   "metadata": {},
   "outputs": [],
   "source": [
    "gns_signal = metrics_df['gnswr'] - metrics_df['deck gnswr'] + metrics_df['gpwr'] - metrics_df['d1wr']"
   ]
  },
  {
   "cell_type": "code",
   "execution_count": 23,
   "id": "89f037f7-99a9-4d2c-a924-da56681b77bc",
   "metadata": {},
   "outputs": [
    {
     "data": {
      "text/plain": [
       "Auspicious Arrival           0.010032\n",
       "Dog Walker                   0.008203\n",
       "Torch the Witness            0.005805\n",
       "A Killer Among Us           -0.000771\n",
       "Repulsive Mutation          -0.005336\n",
       "Incinerator of the Guilty   -0.011350\n",
       "Cryptic Coat                -0.016570\n",
       "Magnifying Glass            -0.023776\n",
       "Vein Ripper                 -0.031929\n",
       "Kaya, Spirits' Justice      -0.036988\n",
       "Niv-Mizzet, Guildpact       -0.046564\n",
       "dtype: float64"
      ]
     },
     "execution_count": 23,
     "metadata": {},
     "output_type": "execute_result"
    }
   ],
   "source": [
    "gns_signal.loc[['Auspicious Arrival', 'Dog Walker', 'Torch the Witness', 'A Killer Among Us', 'Repulsive Mutation', 'Incinerator of the Guilty', 'Cryptic Coat', 'Magnifying Glass', 'Vein Ripper', \"Kaya, Spirits' Justice\", 'Niv-Mizzet, Guildpact']]"
   ]
  },
  {
   "cell_type": "code",
   "execution_count": 24,
   "id": "e4426a19-796b-4c32-8d23-1ba711a536c2",
   "metadata": {
    "scrolled": true
   },
   "outputs": [
    {
     "data": {
      "text/plain": [
       "-0.01605847569573386"
      ]
     },
     "execution_count": 24,
     "metadata": {},
     "output_type": "execute_result"
    }
   ],
   "source": [
    "gns_signal.sort_values(ascending=False)"
   ]
  },
  {
   "cell_type": "code",
   "execution_count": null,
   "id": "5c73e6d1-c49e-4ddf-b9a3-cf53915eab59",
   "metadata": {},
   "outputs": [],
   "source": []
  }
 ],
 "metadata": {
  "kernelspec": {
   "display_name": "Python 3 (ipykernel)",
   "language": "python",
   "name": "python3"
  },
  "language_info": {
   "codemirror_mode": {
    "name": "ipython",
    "version": 3
   },
   "file_extension": ".py",
   "mimetype": "text/x-python",
   "name": "python",
   "nbconvert_exporter": "python",
   "pygments_lexer": "ipython3",
   "version": "3.8.10"
  }
 },
 "nbformat": 4,
 "nbformat_minor": 5
}
