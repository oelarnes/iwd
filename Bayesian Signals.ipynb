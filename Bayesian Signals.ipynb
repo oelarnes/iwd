{
 "cells": [
  {
   "cell_type": "code",
   "execution_count": 233,
   "id": "670df0a7-8aa7-4a8e-9a81-933ce39f7869",
   "metadata": {},
   "outputs": [],
   "source": [
    "import csv\n",
    "import pandas as pd\n",
    "import numpy as np\n",
    "import sklearn\n",
    "\n",
    "from pymongo import MongoClient\n",
    "\n",
    "ALL_COLORS = ['W', 'U', 'B', 'R', 'G']\n",
    "\n",
    "PATH = './data/draft_data_public.MKM.PremierDraft.csv'\n",
    "\n",
    "NO_NO = 0\n",
    "NO_YES = 1\n",
    "YES_YES = 2\n",
    "\n",
    "NO = 0\n",
    "YES = 1\n",
    "\n",
    "MAX_PIP_COUNT = 40\n",
    "NUM_COLORS = 5\n",
    "NUM_IN_PACK = 13\n",
    "NUM_PACKS = 3"
   ]
  },
  {
   "cell_type": "code",
   "execution_count": 232,
   "id": "71497ac8-0dd8-460b-bc0f-d36dbb286e1d",
   "metadata": {},
   "outputs": [],
   "source": [
    "client = MongoClient()\n",
    "cards_en = client.scryfall.cards_en\n",
    "\n",
    "with open(PATH) as csvfile:\n",
    "    draft_data = csv.reader(csvfile)\n",
    "    COLUMNS = next(draft_data)\n",
    "\n",
    "NAMES = [col.split('pack_card_')[1] for col in columns if 'pack_card_' in col]\n",
    "PICK_IDX = columns.index('pick')\n",
    "DRAFTID_IDX = columns.index('draft_id')\n",
    "PACKNUM_IDX = columns.index('pack_number')\n",
    "PICKNUM_IDX = columns.index('pick_number')\n",
    "PACK_IDX = columns.index('pack_card_A Killer Among Us')\n",
    "POOL_IDX = columns.index('pool_A Killer Among Us')\n",
    "NUM_CARDS = len(names)\n"
   ]
  },
  {
   "cell_type": "code",
   "execution_count": 205,
   "id": "c9b8a8ed-b5dd-4b0a-a0b6-84ccedca521e",
   "metadata": {},
   "outputs": [],
   "source": [
    "def get_card(card_name):\n",
    "    card = cards_en.find_one({'name': card_name})\n",
    "\n",
    "    if card is None:\n",
    "        query = {            \n",
    "            'card_faces': {\n",
    "                '$elemMatch': {\n",
    "                    'name': card_name\n",
    "                }\n",
    "            },\n",
    "        }\n",
    "\n",
    "        card = cards_en.find_one(query)\n",
    "\n",
    "    if card is None:\n",
    "        error_message = 'No match for card name {}'.format(card_name)\n",
    "        print(error_message)\n",
    "\n",
    "    return(card)\n",
    "\n",
    "def card_vector(index, row):\n",
    "    return np.array([int(x) for x in row[index:index + NUM_CARDS]])"
   ]
  },
  {
   "cell_type": "code",
   "execution_count": 57,
   "id": "2eebe591-3991-4837-b512-bfbd5abda89b",
   "metadata": {},
   "outputs": [],
   "source": []
  },
  {
   "cell_type": "code",
   "execution_count": 209,
   "id": "3d5f08cb-7815-4347-bb9d-77411c168992",
   "metadata": {},
   "outputs": [],
   "source": [
    "alsa_filepath = './data/alsa.npy'\n",
    "# calculate ALSA\n",
    "\n",
    "# last_seen = np.zeros(len(names))\n",
    "# counts = np.zeros(len(names))\n",
    "# with open(PATH) as csvfile:\n",
    "#     draft_data = csv.reader(csvfile)\n",
    "#     next(draft_data)\n",
    "#     draft_id = None\n",
    "#     pack_num = None\n",
    "#     row_last_seen = np.zeros(len(names))\n",
    "    \n",
    "#     for row in draft_data:\n",
    "#         if draft_id != row[DRAFTID_IDX] or pack_num != row[PACKNUM_IDX]:\n",
    "#             last_seen += row_last_seen\n",
    "#             counts += np.where(row_last_seen, 1, 0)\n",
    "#             draft_id = row[DRAFTID_IDX]\n",
    "#             pack_num = int(row[PACKNUM_IDX])\n",
    "#             row_last_seen = np.zeros(NUM_CARDS)\n",
    "#         pack = card_vector(PACK_IDX, row)\n",
    "#         np.putmask(row_last_seen, pack, int(row[PICKNUM_IDX]))\n",
    "        \n",
    "# alsa = last_seen / counts\n",
    "# alsa_series = pd.Series(alsa, index=NAMES)\n",
    "# alsa_series = alsa_series[pd.notna(alsa)]\n",
    "\n",
    "# with open(alsa_filepath, 'wb') as f:\n",
    "#     np.save(f, alsa)\n",
    "\n",
    "alsa = np.load(alsa_filepath)"
   ]
  },
  {
   "cell_type": "code",
   "execution_count": 192,
   "id": "e2274aea-9238-4c3b-a516-71e1090a6267",
   "metadata": {},
   "outputs": [
    {
     "data": {
      "text/plain": [
       "326"
      ]
     },
     "execution_count": 192,
     "metadata": {},
     "output_type": "execute_result"
    }
   ],
   "source": [
    "len(names)"
   ]
  },
  {
   "cell_type": "code",
   "execution_count": 224,
   "id": "49222b28-a9e0-42ee-ac7b-ffd248a62a09",
   "metadata": {},
   "outputs": [],
   "source": [
    "def pip_vector(card_name):\n",
    "    card = get_card(card_name)\n",
    "    if card is None:\n",
    "        print(card_name + ' Not Found')\n",
    "    mana_cost = card['mana_cost']\n",
    "    return np.array([mana_cost.count(f'{{{color}}}') for color in ALL_COLORS])  \\\n",
    "        + 1/2 * np.array([mana_cost.count(f'/{color}') for color in ALL_COLORS])\\\n",
    "        + 1/2 * np.array([mana_cost.count(f'{color}/') for color in ALL_COLORS])\n",
    "\n",
    "PIP_LOOKUP = np.array([pip_vector(name) for name in names])\n",
    "\n",
    "def pool_pips(pool):\n",
    "    return np.matmul(pool.reshape(1,NUM_CARDS), PIP_LOOKUP)[0]\n",
    "\n",
    "def pick_number(row):\n",
    "    return int(row[PICKNUM_IDX]) + NUM_IN_PACK * int(row[PACKNUM_IDX])\n",
    "\n",
    "def pip_counts_to_matrix(pip_counts):\n",
    "    matrix = np.zeros((NUM_COLORS, MAX_PIP_COUNT), dtype=np.intc)\n",
    "    for i in range(NUM_COLORS):\n",
    "        matrix[i][0:int(pip_counts[i])] = 1\n",
    "    return matrix\n",
    "    \n",
    "    \n"
   ]
  },
  {
   "cell_type": "code",
   "execution_count": 184,
   "id": "5c5d0b3d-d67f-4c64-9e62-5cc7598cfca4",
   "metadata": {},
   "outputs": [
    {
     "ename": "KeyboardInterrupt",
     "evalue": "",
     "output_type": "error",
     "traceback": [
      "\u001b[0;31m---------------------------------------------------------------------------\u001b[0m",
      "\u001b[0;31mKeyboardInterrupt\u001b[0m                         Traceback (most recent call last)",
      "Cell \u001b[0;32mIn[184], line 14\u001b[0m\n\u001b[1;32m     12\u001b[0m pack \u001b[38;5;241m=\u001b[39m pack_vector(row, pack_idx_min, names) \n\u001b[1;32m     13\u001b[0m pack_alsa \u001b[38;5;241m=\u001b[39m np\u001b[38;5;241m.\u001b[39mwhere(pack, alsa, \u001b[38;5;241m13\u001b[39m)\n\u001b[0;32m---> 14\u001b[0m pool \u001b[38;5;241m=\u001b[39m \u001b[43mpack_vector\u001b[49m\u001b[43m(\u001b[49m\u001b[43mrow\u001b[49m\u001b[43m,\u001b[49m\u001b[43m \u001b[49m\u001b[43mpool_idx_min\u001b[49m\u001b[43m,\u001b[49m\u001b[43m \u001b[49m\u001b[43mnames\u001b[49m\u001b[43m)\u001b[49m\n\u001b[1;32m     15\u001b[0m pool_pip_pre \u001b[38;5;241m=\u001b[39m pool_pips(pip_matrix, pool)\n\u001b[1;32m     16\u001b[0m pool_state_matrix \u001b[38;5;241m=\u001b[39m np\u001b[38;5;241m.\u001b[39mzeros((\u001b[38;5;241m5\u001b[39m, \u001b[38;5;241m40\u001b[39m), dtype\u001b[38;5;241m=\u001b[39mnp\u001b[38;5;241m.\u001b[39mintc)\n",
      "Cell \u001b[0;32mIn[98], line 23\u001b[0m, in \u001b[0;36mpack_vector\u001b[0;34m(row, pack_idx_min, names)\u001b[0m\n\u001b[1;32m     22\u001b[0m \u001b[38;5;28;01mdef\u001b[39;00m \u001b[38;5;21mpack_vector\u001b[39m(row, pack_idx_min, names):\n\u001b[0;32m---> 23\u001b[0m     \u001b[38;5;28;01mreturn\u001b[39;00m np\u001b[38;5;241m.\u001b[39marray([\u001b[38;5;28mint\u001b[39m(x) \u001b[38;5;28;01mfor\u001b[39;00m x \u001b[38;5;129;01min\u001b[39;00m row[pack_idx_min:pack_idx_min \u001b[38;5;241m+\u001b[39m \u001b[38;5;28mlen\u001b[39m(names)]])\n",
      "Cell \u001b[0;32mIn[98], line 23\u001b[0m, in \u001b[0;36m<listcomp>\u001b[0;34m(.0)\u001b[0m\n\u001b[1;32m     22\u001b[0m \u001b[38;5;28;01mdef\u001b[39;00m \u001b[38;5;21mpack_vector\u001b[39m(row, pack_idx_min, names):\n\u001b[0;32m---> 23\u001b[0m     \u001b[38;5;28;01mreturn\u001b[39;00m np\u001b[38;5;241m.\u001b[39marray([\u001b[38;5;28mint\u001b[39m(x) \u001b[38;5;28;01mfor\u001b[39;00m x \u001b[38;5;129;01min\u001b[39;00m row[pack_idx_min:pack_idx_min \u001b[38;5;241m+\u001b[39m \u001b[38;5;28mlen\u001b[39m(names)]])\n",
      "\u001b[0;31mKeyboardInterrupt\u001b[0m: "
     ]
    }
   ],
   "source": [
    "experiment_counts = np.zeros((NUM_PACKS * NUM_IN_PACK, NUM_CARDS, len([NO, YES], NUM_COLORS, MAX_PIP_COUNT), dtype=np.intc)\n",
    "event_counts = np.zeros((NUM_PACKS * NUM_IN_PACK, NUM_CARDS, len([NO_NO, NO_YES, YES_YES]), NUM_COLORS, MAX_PIP_COUNT), dtype=np.intc)\n",
    "\n",
    "with open(PATH) as csvfile:\n",
    "    draft_data = csv.reader(csvfile)\n",
    "    for i in range(24):\n",
    "        next(draft_data)\n",
    "    \n",
    "    for row in draft_data:\n",
    "        pack = card_vector(PACK_IDX, row) \n",
    "        pack_alsa = np.where(pack, alsa, NUM_IN_PACK+1)\n",
    "        pool = card_vector(POOOL_IDX, row)\n",
    "        pool_pip_counts_pre = pool_pips(pool)\n",
    "        pool_pre_matrix = pip_counts_to_matrix(pool_pip_counts_pre)\n",
    "        pool_pip_counts_post = pool_pip_counts_pre + PIP_LOOKUP[names.index(row[PICK_IDX])]\n",
    "        \n",
    "        pool_post_matrix = pip_counts_to_matrix(pool_pip_counts_post)\n",
    "        no_yes_matrix = pool_post_matrix - pool_pre_matrix\n",
    "        no_no_matrix = 1 - pool_post_matrix\n",
    "        \n",
    "        min_indices = np.argpartition(pack_alsa, 2)\n",
    "        min_alsa_card = min_indices[0]\n",
    "        experiment_counts[pick_number(row)][min_alsa_card][YES] += pool_pre_matrix\n",
    "        experiment_counts[pick_number(row)][min_alsa_card][NO] += 1 - pool_pre_matrix\n",
    "        \n",
    "        if (names[min_alsa_card] == row[columns.index('pick')])\n",
    "            pool_after = pool_state_matrix + pip_matrix[min_alsa_card]\n",
    "        "
   ]
  },
  {
   "cell_type": "code",
   "execution_count": null,
   "id": "7ccb6f24-3f91-412e-9794-14bbc2e80df5",
   "metadata": {},
   "outputs": [],
   "source": []
  }
 ],
 "metadata": {
  "kernelspec": {
   "display_name": "Python 3 (ipykernel)",
   "language": "python",
   "name": "python3"
  },
  "language_info": {
   "codemirror_mode": {
    "name": "ipython",
    "version": 3
   },
   "file_extension": ".py",
   "mimetype": "text/x-python",
   "name": "python",
   "nbconvert_exporter": "python",
   "pygments_lexer": "ipython3",
   "version": "3.8.10"
  }
 },
 "nbformat": 4,
 "nbformat_minor": 5
}
