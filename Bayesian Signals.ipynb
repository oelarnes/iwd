{
 "cells": [
  {
   "cell_type": "code",
   "execution_count": 52,
   "id": "670df0a7-8aa7-4a8e-9a81-933ce39f7869",
   "metadata": {},
   "outputs": [],
   "source": [
    "import csv\n",
    "import pandas as pd\n",
    "import numpy as np\n",
    "import sklearn\n",
    "\n",
    "from pymongo import MongoClient\n",
    "global ALL_COLORS\n",
    "ALL_COLORS = ['W', 'U', 'B', 'R', 'G']\n",
    "\n",
    "PATH = './data/draft_data_public.MKM.PremierDraft.csv'"
   ]
  },
  {
   "cell_type": "code",
   "execution_count": 74,
   "id": "71497ac8-0dd8-460b-bc0f-d36dbb286e1d",
   "metadata": {},
   "outputs": [],
   "source": [
    "client = MongoClient()\n",
    "cards_en = client.scryfall.cards_en"
   ]
  },
  {
   "cell_type": "code",
   "execution_count": 59,
   "id": "c9b8a8ed-b5dd-4b0a-a0b6-84ccedca521e",
   "metadata": {},
   "outputs": [],
   "source": [
    "def get_card(cards_en, card_name, set=None):\n",
    "    card = cards_en.find_one({'name': card_name})\n",
    "\n",
    "    if card is None:\n",
    "        # separate this query since it will make it slower to combine\n",
    "        query = {            \n",
    "            'card_faces': {\n",
    "                '$elemMatch': {\n",
    "                    'name': card_name\n",
    "                }\n",
    "            },\n",
    "        }\n",
    "\n",
    "        card = cards_en.find_one(query)\n",
    "\n",
    "    if card is None:\n",
    "        error_message = 'No match for card name {}'.format(card_name)\n",
    "        print(error_message)\n",
    "\n",
    "    return(card)"
   ]
  },
  {
   "cell_type": "code",
   "execution_count": 54,
   "id": "2eebe591-3991-4837-b512-bfbd5abda89b",
   "metadata": {},
   "outputs": [],
   "source": [
    "names = []\n",
    "with open(PATH) as csvfile:\n",
    "    draft_data = csv.reader(csvfile)\n",
    "    columns = next(draft_data)\n",
    "    names = [col.split('pack_card_')[1] for col in columns if 'pack_card_' in col]"
   ]
  },
  {
   "cell_type": "code",
   "execution_count": 71,
   "id": "49222b28-a9e0-42ee-ac7b-ffd248a62a09",
   "metadata": {},
   "outputs": [],
   "source": [
    "def pip_vector(cards_en, card_name):\n",
    "    card = get_card(cards_en, card_name)\n",
    "    if card is None:\n",
    "        print(card_name + ' Not Found')\n",
    "    mana_cost = card['mana_cost']\n",
    "    return np.array([mana_cost.count(f'{{{color}}}') for color in ALL_COLORS])  \\\n",
    "        + 1/2 * np.array([mana_cost.count(f'/{color}') for color in ALL_COLORS])\\\n",
    "        + 1/2 * np.array([mana_cost.count(f'{color}/') for color in ALL_COLORS])\n",
    "\n",
    "pip_lookup = np.array([pip_vector(cards_en, name) for name in names])"
   ]
  }
 ],
 "metadata": {
  "kernelspec": {
   "display_name": "Python 3 (ipykernel)",
   "language": "python",
   "name": "python3"
  },
  "language_info": {
   "codemirror_mode": {
    "name": "ipython",
    "version": 3
   },
   "file_extension": ".py",
   "mimetype": "text/x-python",
   "name": "python",
   "nbconvert_exporter": "python",
   "pygments_lexer": "ipython3",
   "version": "3.8.10"
  }
 },
 "nbformat": 4,
 "nbformat_minor": 5
}
