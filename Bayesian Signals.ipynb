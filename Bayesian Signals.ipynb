{
 "cells": [
  {
   "cell_type": "code",
   "execution_count": 2,
   "id": "670df0a7-8aa7-4a8e-9a81-933ce39f7869",
   "metadata": {},
   "outputs": [],
   "source": [
    "import csv\n",
    "import pandas as pd\n",
    "import numpy as np\n",
    "import sklearn\n",
    "\n",
    "from pymongo import MongoClient\n",
    "global ALL_COLORS\n",
    "ALL_COLORS = ['W', 'U', 'B', 'R', 'G']\n",
    "\n",
    "PATH = './data/draft_data_public.MKM.PremierDraft.csv'"
   ]
  },
  {
   "cell_type": "code",
   "execution_count": 3,
   "id": "71497ac8-0dd8-460b-bc0f-d36dbb286e1d",
   "metadata": {},
   "outputs": [],
   "source": [
    "client = MongoClient()\n",
    "cards_en = client.scryfall.cards_en"
   ]
  },
  {
   "cell_type": "code",
   "execution_count": 98,
   "id": "c9b8a8ed-b5dd-4b0a-a0b6-84ccedca521e",
   "metadata": {},
   "outputs": [],
   "source": [
    "def get_card(cards_en, card_name, set=None):\n",
    "    card = cards_en.find_one({'name': card_name})\n",
    "\n",
    "    if card is None:\n",
    "        # separate this query since it will make it slower to combine\n",
    "        query = {            \n",
    "            'card_faces': {\n",
    "                '$elemMatch': {\n",
    "                    'name': card_name\n",
    "                }\n",
    "            },\n",
    "        }\n",
    "\n",
    "        card = cards_en.find_one(query)\n",
    "\n",
    "    if card is None:\n",
    "        error_message = 'No match for card name {}'.format(card_name)\n",
    "        print(error_message)\n",
    "\n",
    "    return(card)\n",
    "\n",
    "def pack_vector(row, pack_idx_min, names):\n",
    "    return np.array([int(x) for x in row[pack_idx_min:pack_idx_min + len(names)]])"
   ]
  },
  {
   "cell_type": "code",
   "execution_count": 57,
   "id": "2eebe591-3991-4837-b512-bfbd5abda89b",
   "metadata": {},
   "outputs": [],
   "source": [
    "with open(PATH) as csvfile:\n",
    "    draft_data = csv.reader(csvfile)\n",
    "    columns = next(draft_data)\n",
    "    names = [col.split('pack_card_')[1] for col in columns if 'pack_card_' in col]\n",
    "    pick_idx = columns.index('pick')\n",
    "    pack_idx_min = columns.index('pack_card_A Killer Among Us')\n",
    "    pool_idx_min = columns.index('pool_A Killer Among Us')"
   ]
  },
  {
   "cell_type": "code",
   "execution_count": 148,
   "id": "3d5f08cb-7815-4347-bb9d-77411c168992",
   "metadata": {},
   "outputs": [],
   "source": [
    "alsa_filepath = './data/alsa.npy'\n",
    "# calculate ALSA\n",
    "\n",
    "# last_seen = np.zeros(len(names))\n",
    "# counts = np.zeros(len(names))\n",
    "# with open(PATH) as csvfile:\n",
    "#     draft_data = csv.reader(csvfile)\n",
    "#     next(draft_data)\n",
    "#     draft_id = None\n",
    "#     pack_num = None\n",
    "#     row_last_seen = np.zeros(len(names))\n",
    "    \n",
    "#     for row in draft_data:\n",
    "#         if draft_id != row[columns.index('draft_id')] or pack_num != row[columns.index('pack_number')]:\n",
    "#             last_seen += row_last_seen\n",
    "#             counts += np.where(row_last_seen, 1, 0)\n",
    "#             draft_id = row[columns.index('draft_id')]\n",
    "#             pack_num = int(row[columns.index('pack_number')])\n",
    "#             row_last_seen = np.zeros(len(names))\n",
    "#         pack = pack_vector(row, pack_idx_min, names)\n",
    "#         np.putmask(row_last_seen, pack, int(row[columns.index('pick_number')]))\n",
    "        \n",
    "# alsa = last_seen / counts\n",
    "# alsa_series = pd.Series(alsa, index=names)\n",
    "# alsa_series = alsa_series[pd.notna(alsa)]\n",
    "\n",
    "# with open(alsa_filepath, 'wb') as f:\n",
    "#     np.save(f, alsa)\n",
    "\n",
    "alsa = np.load(alsa_filepath)"
   ]
  },
  {
   "cell_type": "code",
   "execution_count": 89,
   "id": "49222b28-a9e0-42ee-ac7b-ffd248a62a09",
   "metadata": {},
   "outputs": [],
   "source": [
    "def pip_vector(cards_en, card_name):\n",
    "    card = get_card(cards_en, card_name)\n",
    "    if card is None:\n",
    "        print(card_name + ' Not Found')\n",
    "    mana_cost = card['mana_cost']\n",
    "    return np.array([mana_cost.count(f'{{{color}}}') for color in ALL_COLORS])  \\\n",
    "        + 1/2 * np.array([mana_cost.count(f'/{color}') for color in ALL_COLORS])\\\n",
    "        + 1/2 * np.array([mana_cost.count(f'{color}/') for color in ALL_COLORS])\n",
    "\n",
    "def pool_pips(pip_matrix, pool):\n",
    "    return np.matmul(pool.reshape(1,326), pip_matrix)\n",
    "\n",
    "def pool_indicator(pool_pip_matrix, color_index, k):\n",
    "    # does the pool have at least k pips of color ALL_COLORS[color_index]\n",
    "    return float((pool_pip_matrix >= k)[0][color_index])\n",
    "      \n",
    "pip_matrix = np.array([pip_vector(cards_en, name) for name in names])"
   ]
  }
 ],
 "metadata": {
  "kernelspec": {
   "display_name": "Python 3 (ipykernel)",
   "language": "python",
   "name": "python3"
  },
  "language_info": {
   "codemirror_mode": {
    "name": "ipython",
    "version": 3
   },
   "file_extension": ".py",
   "mimetype": "text/x-python",
   "name": "python",
   "nbconvert_exporter": "python",
   "pygments_lexer": "ipython3",
   "version": "3.8.10"
  }
 },
 "nbformat": 4,
 "nbformat_minor": 5
}
